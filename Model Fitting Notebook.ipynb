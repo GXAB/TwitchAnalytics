{
 "cells": [
  {
   "cell_type": "code",
   "execution_count": 25,
   "metadata": {},
   "outputs": [],
   "source": [
    "\n",
    "%matplotlib inline\n",
    "import seaborn as sns\n",
    "from numpy import array\n",
    "import numpy as np\n",
    "import scipy.stats.stats as stats\n",
    "import scipy as scipy\n",
    "import matplotlib.pyplot as plt\n",
    "import matplotlib.dates as mdates\n",
    "from statsmodels.graphics.tsaplots import plot_acf\n",
    "import pandas as pd\n",
    "import statsmodels.api as sm\n",
    "\n",
    "# import warnings\n",
    "# warnings.filterwarnings('ignore')"
   ]
  },
  {
   "cell_type": "code",
   "execution_count": 2,
   "metadata": {},
   "outputs": [
    {
     "data": {
      "text/html": [
       "<div>\n",
       "<style scoped>\n",
       "    .dataframe tbody tr th:only-of-type {\n",
       "        vertical-align: middle;\n",
       "    }\n",
       "\n",
       "    .dataframe tbody tr th {\n",
       "        vertical-align: top;\n",
       "    }\n",
       "\n",
       "    .dataframe thead th {\n",
       "        text-align: right;\n",
       "    }\n",
       "</style>\n",
       "<table border=\"1\" class=\"dataframe\">\n",
       "  <thead>\n",
       "    <tr style=\"text-align: right;\">\n",
       "      <th></th>\n",
       "      <th>Fortnite</th>\n",
       "    </tr>\n",
       "  </thead>\n",
       "  <tbody>\n",
       "    <tr>\n",
       "      <th>0-0</th>\n",
       "      <td>0.00000</td>\n",
       "    </tr>\n",
       "    <tr>\n",
       "      <th>0-5</th>\n",
       "      <td>3.86068</td>\n",
       "    </tr>\n",
       "    <tr>\n",
       "      <th>0-10</th>\n",
       "      <td>-2.01856</td>\n",
       "    </tr>\n",
       "    <tr>\n",
       "      <th>0-15</th>\n",
       "      <td>-1.28691</td>\n",
       "    </tr>\n",
       "    <tr>\n",
       "      <th>0-20</th>\n",
       "      <td>2.36388</td>\n",
       "    </tr>\n",
       "  </tbody>\n",
       "</table>\n",
       "</div>"
      ],
      "text/plain": [
       "      Fortnite\n",
       "0-0    0.00000\n",
       "0-5    3.86068\n",
       "0-10  -2.01856\n",
       "0-15  -1.28691\n",
       "0-20   2.36388"
      ]
     },
     "execution_count": 2,
     "metadata": {},
     "output_type": "execute_result"
    }
   ],
   "source": [
    "fit_data = pd.read_excel(\"Fortnite_ret.xlsx\")\n",
    "fit_data.head()"
   ]
  },
  {
   "cell_type": "code",
   "execution_count": 6,
   "metadata": {},
   "outputs": [
    {
     "data": {
      "text/plain": [
       "[0.0, 3.86068, -2.01856, -1.28691, 2.36388]"
      ]
     },
     "execution_count": 6,
     "metadata": {},
     "output_type": "execute_result"
    }
   ],
   "source": [
    "# To list form, last to newest\n",
    "fit_list = list(fit_data[fit_data.columns[0]])\n",
    "fit_list[:5]"
   ]
  },
  {
   "cell_type": "code",
   "execution_count": 154,
   "metadata": {},
   "outputs": [],
   "source": [
    "#Defined equations for calculation\n",
    "def sigma(x):\n",
    "    xmean = np.mean(x)\n",
    "    return np.sqrt(np.sum((x-xmean)**2)/(x.size))\n",
    "\n",
    "def skewness(x):\n",
    "    std = sigma(x)\n",
    "    xmean = np.mean(x)\n",
    "    return (np.sum((x-xmean)**3)/(std**3))/x.size\n",
    "\n",
    "def kurtosis(x):\n",
    "    #Unadjusted, not normalized to 3\n",
    "    std = sigma(x)\n",
    "    xmean = np.mean(x)\n",
    "    return (np.sum((x-xmean)**4)/(std**4))/x.size-3\n",
    "\n",
    "def ACF(x,k):\n",
    "    xmean = np.mean(x)\n",
    "    n = x.size\n",
    "    ret = 0\n",
    "    for i in range(0,n-k):\n",
    "        ret = ret + (x[i]-xmean)*(x[i+k]-xmean)\n",
    "    ret = ret / n\n",
    "    return ret"
   ]
  },
  {
   "cell_type": "code",
   "execution_count": 155,
   "metadata": {},
   "outputs": [
    {
     "name": "stdout",
     "output_type": "stream",
     "text": [
      "Moments for Actual Data\n",
      "Expected Value: -0.02782017103909464\n",
      "Variance: 25.838100438778355\n",
      "Skewness: -3.3168059466824147\n",
      "Kurtosis: 31.35494439402548\n"
     ]
    }
   ],
   "source": [
    "print(\"Moments for Actual Data\")\n",
    "amom1 = np.mean(fit_list)\n",
    "amom2 = ACF(array(fit_list),0)\n",
    "amom3 = skewness(array(fit_list))\n",
    "amom4 = kurtosis(array(fit_list))\n",
    "sig = np.sqrt(amom2)\n",
    "print(\"Expected Value: \" + str(amom1))\n",
    "print(\"Variance: \" + str(amom2))\n",
    "print(\"Skewness: \" + str(amom3))\n",
    "print(\"Kurtosis: \" + str(amom4))"
   ]
  },
  {
   "cell_type": "code",
   "execution_count": 179,
   "metadata": {},
   "outputs": [],
   "source": [
    "def AR(ar, y):\n",
    "    ret = 0\n",
    "    for term, term_num in zip(ar, range(1,len(ar)+1)):\n",
    "        ret = ret + term * y[-term_num]\n",
    "        \n",
    "    return ret\n",
    "\n",
    "def test_AR(ar, y):\n",
    "    \n",
    "    for term in ar:\n",
    "        if np.sqrt(term**2) >= 1:\n",
    "            return 1000000000\n",
    "    \n",
    "    lag = len(ar)\n",
    "    err = [0] * lag\n",
    "    ret = err\n",
    "    \n",
    "    for num in range(lag,len(y)):\n",
    "        ret = ret + [AR(ar, y[num-lag:num])]\n",
    "        err = err + [y[num]-ret[-1]]\n",
    "    \n",
    "    sse = sum([x**2 for x in err])\n",
    "    \n",
    "    return sse\n",
    "\n",
    "\n",
    "def calc_AR(ar, y):\n",
    "    \n",
    "    lag = len(ar)\n",
    "    err = [0] * lag\n",
    "    ret = err\n",
    "    \n",
    "    for num in range(lag,len(y)):\n",
    "        ret = ret + [AR(ar, y[num-lag:num])]\n",
    "        err = err + [y[num]-ret[-1]]\n",
    "\n",
    "    return ret, err\n",
    "    "
   ]
  },
  {
   "cell_type": "code",
   "execution_count": 180,
   "metadata": {},
   "outputs": [
    {
     "data": {
      "text/plain": [
       "array([-0.04259959])"
      ]
     },
     "execution_count": 180,
     "metadata": {},
     "output_type": "execute_result"
    }
   ],
   "source": [
    "modelAR1 = scipy.optimize.minimize(test_AR,[0.2],(fit_list))\n",
    "modelAR1_args = modelAR1.x\n",
    "modelAR1_args"
   ]
  },
  {
   "cell_type": "code",
   "execution_count": 181,
   "metadata": {},
   "outputs": [
    {
     "data": {
      "text/plain": [
       "25.79198451276313"
      ]
     },
     "execution_count": 181,
     "metadata": {},
     "output_type": "execute_result"
    }
   ],
   "source": [
    "modelAR1_var = modelAR1.fun/len(fit_list)\n",
    "modelAR1_var"
   ]
  },
  {
   "cell_type": "code",
   "execution_count": 182,
   "metadata": {},
   "outputs": [
    {
     "data": {
      "text/plain": [
       "array([-0.04146605,  0.02663959])"
      ]
     },
     "execution_count": 182,
     "metadata": {},
     "output_type": "execute_result"
    }
   ],
   "source": [
    "modelAR2 = scipy.optimize.minimize(test_AR,[0.2, 0.2],(fit_list))\n",
    "modelAR2_args = modelAR2.x\n",
    "modelAR2_args"
   ]
  },
  {
   "cell_type": "code",
   "execution_count": 183,
   "metadata": {},
   "outputs": [
    {
     "data": {
      "text/plain": [
       "25.771768519919423"
      ]
     },
     "execution_count": 183,
     "metadata": {},
     "output_type": "execute_result"
    }
   ],
   "source": [
    "modelAR2_var = modelAR2.fun/len(fit_list)\n",
    "modelAR2_var"
   ]
  },
  {
   "cell_type": "code",
   "execution_count": 122,
   "metadata": {},
   "outputs": [],
   "source": [
    "def MA(ma, err):\n",
    "    ret = 0\n",
    "    for term, term_num in zip(ma, range(1,len(ma)+1)):\n",
    "        ret = ret + term * err[-term_num]\n",
    "    return ret\n",
    "\n",
    "def test_MA(ma, y):\n",
    "    \n",
    "    #Restricting large term values\n",
    "    for term in ma:\n",
    "        if np.sqrt(term**2) >= 10:\n",
    "            return 1000000000\n",
    "    \n",
    "    lag = len(ma)\n",
    "    err = [0] * lag\n",
    "    ret = err\n",
    "    \n",
    "    for num in range(lag,len(y)):\n",
    "        ret = ret + [MA(ma, err[num-lag:num])]\n",
    "        err = err + [y[num]-ret[-1]]\n",
    "    \n",
    "    sse = sum([x**2 for x in err])\n",
    "    \n",
    "    return sse\n",
    "    \n",
    "def calc_MA(ma, y):\n",
    "    \n",
    "    lag = len(ma)\n",
    "    err = [0] * lag\n",
    "    ret = err\n",
    "    \n",
    "    for num in range(lag,len(y)):\n",
    "        ret = ret + [MA(ma, err[num-lag:num])]\n",
    "        err = err + [y[num]-ret[-1]]\n",
    "\n",
    "    ret = ret[lag:] \n",
    "    err = err[lag:]\n",
    "    \n",
    "    return ret, err"
   ]
  },
  {
   "cell_type": "code",
   "execution_count": 49,
   "metadata": {},
   "outputs": [
    {
     "data": {
      "text/plain": [
       "array([-0.04007508])"
      ]
     },
     "execution_count": 49,
     "metadata": {},
     "output_type": "execute_result"
    }
   ],
   "source": [
    "modelMA1 = scipy.optimize.minimize(test_MA,[0.2],(fit_list))\n",
    "modelMA1_args = modelMA1.x\n",
    "modelMA1_args"
   ]
  },
  {
   "cell_type": "code",
   "execution_count": 50,
   "metadata": {},
   "outputs": [
    {
     "data": {
      "text/plain": [
       "25.794651601898664"
      ]
     },
     "execution_count": 50,
     "metadata": {},
     "output_type": "execute_result"
    }
   ],
   "source": [
    "modelMA1_var = modelMA1.fun/len(fit_list)\n",
    "modelMA1_var"
   ]
  },
  {
   "cell_type": "code",
   "execution_count": 59,
   "metadata": {},
   "outputs": [
    {
     "name": "stderr",
     "output_type": "stream",
     "text": [
      "C:\\Users\\Haiqiao Xu\\Anaconda3\\lib\\site-packages\\ipykernel_launcher.py:4: RuntimeWarning: overflow encountered in double_scalars\n",
      "  after removing the cwd from sys.path.\n",
      "C:\\Users\\Haiqiao Xu\\Anaconda3\\lib\\site-packages\\ipykernel_launcher.py:4: RuntimeWarning: invalid value encountered in double_scalars\n",
      "  after removing the cwd from sys.path.\n",
      "C:\\Users\\Haiqiao Xu\\Anaconda3\\lib\\site-packages\\ipykernel_launcher.py:21: RuntimeWarning: overflow encountered in double_scalars\n",
      "C:\\Users\\Haiqiao Xu\\Anaconda3\\lib\\site-packages\\ipykernel_launcher.py:4: RuntimeWarning: overflow encountered in double_scalars\n",
      "  after removing the cwd from sys.path.\n",
      "C:\\Users\\Haiqiao Xu\\Anaconda3\\lib\\site-packages\\ipykernel_launcher.py:4: RuntimeWarning: invalid value encountered in double_scalars\n",
      "  after removing the cwd from sys.path.\n",
      "C:\\Users\\Haiqiao Xu\\Anaconda3\\lib\\site-packages\\ipykernel_launcher.py:21: RuntimeWarning: overflow encountered in double_scalars\n"
     ]
    },
    {
     "data": {
      "text/plain": [
       "array([-0.05014436, -0.02529248])"
      ]
     },
     "execution_count": 59,
     "metadata": {},
     "output_type": "execute_result"
    }
   ],
   "source": [
    "modelMA2 = scipy.optimize.minimize(test_MA,[0.2, 0.2],(fit_list))\n",
    "modelMA2_args = modelMA2.x\n",
    "modelMA2_args"
   ]
  },
  {
   "cell_type": "code",
   "execution_count": 60,
   "metadata": {},
   "outputs": [
    {
     "data": {
      "text/plain": [
       "25.860845783941926"
      ]
     },
     "execution_count": 60,
     "metadata": {},
     "output_type": "execute_result"
    }
   ],
   "source": [
    "modelMA2_var = modelMA2.fun/len(fit_list)\n",
    "modelMA2_var"
   ]
  },
  {
   "cell_type": "code",
   "execution_count": 121,
   "metadata": {},
   "outputs": [],
   "source": [
    "def ARMA(ar, ma, y, err):\n",
    "    ret = 0\n",
    "    for term, term_num in zip(ar, range(1,len(ar)+1)):\n",
    "        ret = ret + term * y[-term_num]\n",
    "    for term, term_num in zip(ma, range(1,len(ar)+1)):\n",
    "        ret = ret + term * err[-term_num]\n",
    "    return ret\n",
    "\n",
    "#This test assumes that the we are using ARMA(n,n) where n is a positive integer\n",
    "def test_ARMA(terms, y):\n",
    "    ar = terms[: int(len(terms)/2)]\n",
    "    ma = terms[int(len(terms)/2):len(terms)]\n",
    "    \n",
    "    for term in ar:\n",
    "        if np.sqrt(term**2) >= 1:\n",
    "            return 1000000000\n",
    "    \n",
    "    lag = len(ma)\n",
    "    err = [0] * lag\n",
    "    ret = err\n",
    "    \n",
    "    for num in range(lag,len(y)):\n",
    "        ret = ret + [ARMA(ar, ma, y[num-lag:num], err[num-lag:num])]\n",
    "        err = err + [y[num]-ret[-1]]\n",
    "    \n",
    "    sse = sum([x**2 for x in err])\n",
    "    \n",
    "    return sse\n",
    "    \n",
    "def calc_ARMA(terms, y):\n",
    "    ar = terms[: int(len(terms)/2)]\n",
    "    ma = terms[int(len(terms)/2):len(terms)]\n",
    "    \n",
    "    lag = len(ma)\n",
    "    err = [0] * lag\n",
    "    ret = err\n",
    "    \n",
    "    for num in range(lag,len(y)):\n",
    "        ret = ret + [ARMA(ar, ma, y[num-lag:num], err[num-lag:num])]\n",
    "        err = err + [y[num]-ret[-1]]\n",
    "\n",
    "    ret = ret[lag:] \n",
    "    err = err[lag:]\n",
    "    \n",
    "    return ret, err"
   ]
  },
  {
   "cell_type": "code",
   "execution_count": 35,
   "metadata": {},
   "outputs": [
    {
     "data": {
      "text/plain": [
       "array([-0.21649834,  0.17271666])"
      ]
     },
     "execution_count": 35,
     "metadata": {},
     "output_type": "execute_result"
    }
   ],
   "source": [
    "model11 = scipy.optimize.minimize(test_ARMA,[0.2,0.2],(fit_list))\n",
    "model11_args = model11.x\n",
    "model11_args"
   ]
  },
  {
   "cell_type": "code",
   "execution_count": 38,
   "metadata": {},
   "outputs": [
    {
     "data": {
      "text/plain": [
       "25.787015718602174"
      ]
     },
     "execution_count": 38,
     "metadata": {},
     "output_type": "execute_result"
    }
   ],
   "source": [
    "model11_var = model11.fun/len(fit_list)\n",
    "model11_var"
   ]
  },
  {
   "cell_type": "code",
   "execution_count": 36,
   "metadata": {},
   "outputs": [
    {
     "data": {
      "text/plain": [
       "array([ 0.99837034, -0.11567829, -1.01682893,  0.19167246])"
      ]
     },
     "execution_count": 36,
     "metadata": {},
     "output_type": "execute_result"
    }
   ],
   "source": [
    "model22 = scipy.optimize.minimize(test_ARMA,[0.2,0.2,0.2,0.2],(fit_list))\n",
    "model22_args = model22.x\n",
    "model22_args"
   ]
  },
  {
   "cell_type": "code",
   "execution_count": 39,
   "metadata": {},
   "outputs": [
    {
     "data": {
      "text/plain": [
       "25.519620967929825"
      ]
     },
     "execution_count": 39,
     "metadata": {},
     "output_type": "execute_result"
    }
   ],
   "source": [
    "model22_var = model22.fun/len(fit_list)\n",
    "model22_var"
   ]
  },
  {
   "cell_type": "code",
   "execution_count": 135,
   "metadata": {},
   "outputs": [],
   "source": [
    "def MA_S11(ma,ma2, err, err2):\n",
    "    ret = ma * err[-1] + ma2 * err2[-1] + ma * ma2 * err2[-2]\n",
    "    return ret\n",
    "\n",
    "def test_MA_S11(terms, y):\n",
    "    \n",
    "    ma = terms[0]\n",
    "    ma2 = terms[1]\n",
    "    \n",
    "    #Restricting large term values\n",
    "    for term in terms:\n",
    "        if np.sqrt(term**2) >= 10:\n",
    "            return 1000000000\n",
    "    \n",
    "    lag = 2\n",
    "    err = [0] * (lag + 288)\n",
    "    ret = err\n",
    "    \n",
    "    for num in range(lag+288,len(y)):\n",
    "        ret = ret + [MA_S11(ma,ma2, err[num-lag:num], err[num-lag-288:num-288])]\n",
    "        err = err + [y[num]-ret[-1]]\n",
    "    \n",
    "    sse = sum([x**2 for x in err])\n",
    "    \n",
    "    return sse\n",
    "    \n",
    "def calc_MA_S11(terms, y):\n",
    "    \n",
    "    ma = terms[0]\n",
    "    ma2 = terms[1]\n",
    "\n",
    "    lag = 2\n",
    "    err = [0] * (lag + 288)\n",
    "    ret = err\n",
    "    \n",
    "    for num in range(lag+288,len(y)):\n",
    "        ret = ret + [MA_S11(ma,ma2, err[num-lag:num], err[num-lag-288:num-288])]\n",
    "        err = err + [y[num]-ret[-1]]\n",
    "        \n",
    "    ret = ret[lag:] \n",
    "    err = err[lag:]\n",
    "    \n",
    "    return ret, err\n",
    "    "
   ]
  },
  {
   "cell_type": "code",
   "execution_count": 66,
   "metadata": {},
   "outputs": [
    {
     "data": {
      "text/plain": [
       "array([-0.04299446,  0.05709995])"
      ]
     },
     "execution_count": 66,
     "metadata": {},
     "output_type": "execute_result"
    }
   ],
   "source": [
    "modelMA11 = scipy.optimize.minimize(test_MA_S11,[0.2,0.2],(fit_list))\n",
    "modelMA11_args = modelMA11.x\n",
    "modelMA11_args"
   ]
  },
  {
   "cell_type": "code",
   "execution_count": 67,
   "metadata": {},
   "outputs": [
    {
     "data": {
      "text/plain": [
       "24.84626546095808"
      ]
     },
     "execution_count": 67,
     "metadata": {},
     "output_type": "execute_result"
    }
   ],
   "source": [
    "modelMA11_var = modelMA11.fun/len(fit_list)\n",
    "modelMA11_var"
   ]
  },
  {
   "cell_type": "code",
   "execution_count": 133,
   "metadata": {},
   "outputs": [],
   "source": [
    "def MA_S22(ma,ma2, err, err2):\n",
    "    ret = ma[0] * err[-1] + ma[1] * err[-2]\n",
    "    ret = ret + ma2[0] * err2[-1] + ma2[0] * ma[0] * err2[-2] +  ma2[0] * ma[1] * err2[-3]\n",
    "    ret = ret + ma2[1] * err2[-2] + ma2[1] * ma[0] * err2[-3] +  ma2[1] * ma[1] * err2[-4]\n",
    "    return ret\n",
    "\n",
    "def test_MA_S22(terms, y):\n",
    "    \n",
    "    ma = terms[:2]\n",
    "    ma2 = terms[2:]\n",
    "    #Restricting large term values\n",
    "    for term in terms:\n",
    "        if np.sqrt(term**2) >= 10:\n",
    "            return 1000000000\n",
    "    \n",
    "    lag = 4\n",
    "    err = [0] * (lag + 288)\n",
    "    ret = err\n",
    "    \n",
    "    for num in range(lag+288,len(y)):\n",
    "        ret = ret + [MA_S22(ma,ma2, err[num-lag:num], err[num-lag-288:num-288])]\n",
    "        err = err + [y[num]-ret[-1]]\n",
    "    \n",
    "    sse = sum([x**2 for x in err])\n",
    "    \n",
    "    return sse\n",
    "\n",
    "def calc_MA_S22(terms, y):\n",
    "    \n",
    "    ma = terms[:2]\n",
    "    ma2 = terms[2:]\n",
    "\n",
    "    lag = 4\n",
    "    err = [0] * (lag + 288)\n",
    "    ret = err\n",
    "    \n",
    "    for num in range(lag+288,len(y)):\n",
    "        ret = ret + [MA_S22(ma,ma2, err[num-lag:num], err[num-lag-288:num-288])]\n",
    "        err = err + [y[num]-ret[-1]]\n",
    "        \n",
    "    ret = ret[lag:] \n",
    "    err = err[lag:]\n",
    "    \n",
    "    return ret, err\n",
    "    "
   ]
  },
  {
   "cell_type": "code",
   "execution_count": 75,
   "metadata": {},
   "outputs": [
    {
     "name": "stderr",
     "output_type": "stream",
     "text": [
      "C:\\Users\\Haiqiao Xu\\Anaconda3\\lib\\site-packages\\ipykernel_launcher.py:2: RuntimeWarning: overflow encountered in double_scalars\n",
      "  \n",
      "C:\\Users\\Haiqiao Xu\\Anaconda3\\lib\\site-packages\\ipykernel_launcher.py:2: RuntimeWarning: invalid value encountered in double_scalars\n",
      "  \n",
      "C:\\Users\\Haiqiao Xu\\Anaconda3\\lib\\site-packages\\ipykernel_launcher.py:24: RuntimeWarning: overflow encountered in double_scalars\n",
      "C:\\Users\\Haiqiao Xu\\Anaconda3\\lib\\site-packages\\ipykernel_launcher.py:3: RuntimeWarning: overflow encountered in double_scalars\n",
      "  This is separate from the ipykernel package so we can avoid doing imports until\n",
      "C:\\Users\\Haiqiao Xu\\Anaconda3\\lib\\site-packages\\ipykernel_launcher.py:4: RuntimeWarning: overflow encountered in double_scalars\n",
      "  after removing the cwd from sys.path.\n",
      "C:\\Users\\Haiqiao Xu\\Anaconda3\\lib\\site-packages\\ipykernel_launcher.py:2: RuntimeWarning: overflow encountered in double_scalars\n",
      "  \n",
      "C:\\Users\\Haiqiao Xu\\Anaconda3\\lib\\site-packages\\ipykernel_launcher.py:2: RuntimeWarning: invalid value encountered in double_scalars\n",
      "  \n",
      "C:\\Users\\Haiqiao Xu\\Anaconda3\\lib\\site-packages\\ipykernel_launcher.py:24: RuntimeWarning: overflow encountered in double_scalars\n",
      "C:\\Users\\Haiqiao Xu\\Anaconda3\\lib\\site-packages\\ipykernel_launcher.py:3: RuntimeWarning: overflow encountered in double_scalars\n",
      "  This is separate from the ipykernel package so we can avoid doing imports until\n",
      "C:\\Users\\Haiqiao Xu\\Anaconda3\\lib\\site-packages\\ipykernel_launcher.py:4: RuntimeWarning: overflow encountered in double_scalars\n",
      "  after removing the cwd from sys.path.\n"
     ]
    },
    {
     "data": {
      "text/plain": [
       "array([ 0.02150926, -0.00469891,  0.03693656,  0.03657878])"
      ]
     },
     "execution_count": 75,
     "metadata": {},
     "output_type": "execute_result"
    }
   ],
   "source": [
    "modelMA22 = scipy.optimize.minimize(test_MA_S22,[0.2,0.2,0.2,0.2],(fit_list))\n",
    "modelMA22_args = modelMA22.x\n",
    "modelMA22_args"
   ]
  },
  {
   "cell_type": "code",
   "execution_count": 76,
   "metadata": {},
   "outputs": [
    {
     "data": {
      "text/plain": [
       "24.903472447442983"
      ]
     },
     "execution_count": 76,
     "metadata": {},
     "output_type": "execute_result"
    }
   ],
   "source": [
    "modelMA22_var = modelMA22.fun/len(fit_list)\n",
    "modelMA22_var"
   ]
  },
  {
   "cell_type": "code",
   "execution_count": 118,
   "metadata": {},
   "outputs": [],
   "source": [
    "def AR_S11(ar,ar2, y, y2):\n",
    "    ret = ar * y[-1] + ar2 * y2[-1] - ar * ar2 * y2[-2]\n",
    "    return ret\n",
    "\n",
    "def test_AR_S11(terms, y):\n",
    "    \n",
    "    ar = terms[0]\n",
    "    ar2 = terms[1]\n",
    "    \n",
    "    for term in terms:\n",
    "        if np.sqrt(term**2) >= 1:\n",
    "            return 1000000000\n",
    "    \n",
    "    lag = 2\n",
    "    err = [0] * (lag + 288)\n",
    "    ret = err\n",
    "    \n",
    "    for num in range(lag+288,len(y)):\n",
    "        ret = ret + [AR_S11(ar,ar2, y[num-lag:num], y[num-lag-288:num-288])]\n",
    "        err = err + [y[num]-ret[-1]]\n",
    "    \n",
    "    sse = sum([x**2 for x in err])\n",
    "    \n",
    "    return sse\n",
    "    \n",
    "    \n",
    "def calc_AR_S11(terms, y):\n",
    "    \n",
    "    ar = terms[0]\n",
    "    ar2 = terms[1]\n",
    "     \n",
    "    lag = 2\n",
    "    err = [0] * (lag + 288)\n",
    "    ret = err\n",
    "    \n",
    "    for num in range(lag+288,len(y)):\n",
    "        ret = ret + [AR_S11(ar,ar2, y[num-lag:num], y[num-lag-288:num-288])]\n",
    "        err = err + [y[num]-ret[-1]]\n",
    "        \n",
    "    ret = ret[lag:] \n",
    "    err = err[lag:]\n",
    "    \n",
    "    return ret, err\n",
    "    "
   ]
  },
  {
   "cell_type": "code",
   "execution_count": 81,
   "metadata": {},
   "outputs": [
    {
     "data": {
      "text/plain": [
       "array([-0.04672691,  0.06215085])"
      ]
     },
     "execution_count": 81,
     "metadata": {},
     "output_type": "execute_result"
    }
   ],
   "source": [
    "modelAR11 = scipy.optimize.minimize(test_AR_S11,[0.2,0.2],(fit_list))\n",
    "modelAR11_args = modelAR11.x\n",
    "modelAR11_args"
   ]
  },
  {
   "cell_type": "code",
   "execution_count": 82,
   "metadata": {},
   "outputs": [
    {
     "data": {
      "text/plain": [
       "24.83135195036783"
      ]
     },
     "execution_count": 82,
     "metadata": {},
     "output_type": "execute_result"
    }
   ],
   "source": [
    "modelAR11_var = modelAR11.fun/len(fit_list)\n",
    "modelAR11_var"
   ]
  },
  {
   "cell_type": "code",
   "execution_count": 117,
   "metadata": {},
   "outputs": [],
   "source": [
    "def AR_S22(ar,ar2, y, y2):\n",
    "    ret = ar[0] * y[-1] + ar[1] * y[-2]\n",
    "    ret = ret + ar2[0] * y2[-1] - ar2[0] * ar[0] * y2[-2] - ar2[0] * ar[1] * y2[-3]\n",
    "    ret = ret + ar2[1] * y2[-2] - ar2[1] * ar[0] * y2[-3] - ar2[1] * ar[1] * y2[-4]\n",
    "    return ret\n",
    "\n",
    "def test_AR_S22(terms, y):\n",
    "    \n",
    "    ar = terms[:2]\n",
    "    ar2 = terms[2:]\n",
    "    \n",
    "    for term in terms:\n",
    "        if np.sqrt(term**2) >= 1:\n",
    "            return 1000000000\n",
    "    \n",
    "    lag = 4\n",
    "    err = [0] * (lag + 288)\n",
    "    ret = err\n",
    "    \n",
    "    for num in range(lag+288,len(y)):\n",
    "        ret = ret + [AR_S22(ar,ar2, y[num-lag:num], y[num-lag-288:num-288])]\n",
    "        err = err + [y[num]-ret[-1]]\n",
    "    \n",
    "    sse = sum([x**2 for x in err])\n",
    "    \n",
    "    return sse\n",
    "\n",
    "def calc_AR_S22(terms, y):\n",
    "    \n",
    "    ar = terms[:2]\n",
    "    ar2 = terms[2:]\n",
    "    \n",
    "    lag = 4\n",
    "    err = [0] * (lag + 288)\n",
    "    ret = err\n",
    "    \n",
    "    for num in range(lag+288,len(y)):\n",
    "        ret = ret + [AR_S22(ar,ar2, y[num-lag:num], y[num-lag-288:num-288])]\n",
    "        err = err + [y[num]-ret[-1]]\n",
    "        \n",
    "    ret = ret[lag:] \n",
    "    err = err[lag:]\n",
    "    \n",
    "    return ret, err\n",
    "    "
   ]
  },
  {
   "cell_type": "code",
   "execution_count": 85,
   "metadata": {},
   "outputs": [
    {
     "data": {
      "text/plain": [
       "array([-0.04843971,  0.01193629,  0.06059799,  0.06521386])"
      ]
     },
     "execution_count": 85,
     "metadata": {},
     "output_type": "execute_result"
    }
   ],
   "source": [
    "modelAR22 = scipy.optimize.minimize(test_AR_S22,[0.2,0.2, 0.2, 0.2],(fit_list))\n",
    "modelAR22_args = modelAR22.x\n",
    "modelAR22_args"
   ]
  },
  {
   "cell_type": "code",
   "execution_count": 86,
   "metadata": {},
   "outputs": [
    {
     "data": {
      "text/plain": [
       "24.717470989350915"
      ]
     },
     "execution_count": 86,
     "metadata": {},
     "output_type": "execute_result"
    }
   ],
   "source": [
    "modelAR22_var = modelAR22.fun/len(fit_list)\n",
    "modelAR22_var"
   ]
  },
  {
   "cell_type": "code",
   "execution_count": 116,
   "metadata": {},
   "outputs": [],
   "source": [
    "def ARMA_S1111(ar,ar2,ma,ma2, y, y2, err, err2):\n",
    "    ret = ar * y[-1] + ar2 * y2[-1] - ar2 * ar * y2[-2]\n",
    "    ret = ret + ma * err[-1] + ma2 * err2[-1] + ma * ma2 * err2[-2]\n",
    "    return ret\n",
    "\n",
    "def test_ARMA_S1111(terms, y):\n",
    "    \n",
    "    ar = terms[0]\n",
    "    ar2 = terms[1]\n",
    "    ma = terms[2]\n",
    "    ma2 = terms[3]\n",
    "    \n",
    "    for term in terms:\n",
    "        if np.sqrt(term**2) >= 1:\n",
    "            return 1000000000\n",
    "    \n",
    "    lag = 2\n",
    "    err = [0] * (lag + 288)\n",
    "    ret = err\n",
    "    \n",
    "    for num in range(lag+288,len(y)):\n",
    "        ret = ret + [ARMA_S1111(ar,ar2,ma,ma2, y[num-lag:num], y[num-lag-288:num-288], err[num-lag:num], err[num-lag-288:num-288])]\n",
    "        err = err + [y[num]-ret[-1]]\n",
    "    \n",
    "    sse = sum([x**2 for x in err])\n",
    "    \n",
    "    return sse\n",
    "\n",
    "def calc_ARMA_S1111(terms, y):\n",
    "    \n",
    "    ar = terms[0]\n",
    "    ar2 = terms[1]\n",
    "    ma = terms[2]\n",
    "    ma2 = terms[3]\n",
    "    \n",
    "    lag = 2\n",
    "    err = [0] * (lag + 288)\n",
    "    ret = err\n",
    "    \n",
    "    for num in range(lag+288,len(y)):\n",
    "        ret = ret + [ARMA_S1111(ar,ar2,ma,ma2, y[num-lag:num], y[num-lag-288:num-288], err[num-lag:num], err[num-lag-288:num-288])]\n",
    "        err = err + [y[num]-ret[-1]]\n",
    "        \n",
    "    ret = ret[lag:] \n",
    "    err = err[lag:]\n",
    "    \n",
    "    return ret, err\n",
    "    "
   ]
  },
  {
   "cell_type": "code",
   "execution_count": 94,
   "metadata": {},
   "outputs": [
    {
     "data": {
      "text/plain": [
       "array([-0.17820079,  0.16944991,  0.12924224, -0.10851264])"
      ]
     },
     "execution_count": 94,
     "metadata": {},
     "output_type": "execute_result"
    }
   ],
   "source": [
    "modelARMA1111 = scipy.optimize.minimize(test_ARMA_S1111,[0.2,0.2, 0.2, 0.2],(fit_list))\n",
    "modelARMA1111_args = modelARMA1111.x\n",
    "modelARMA1111_args"
   ]
  },
  {
   "cell_type": "code",
   "execution_count": 95,
   "metadata": {},
   "outputs": [
    {
     "data": {
      "text/plain": [
       "24.819091215552668"
      ]
     },
     "execution_count": 95,
     "metadata": {},
     "output_type": "execute_result"
    }
   ],
   "source": [
    "modelARMA1111_var = modelARMA1111.fun/len(fit_list)\n",
    "modelARMA1111_var"
   ]
  },
  {
   "cell_type": "code",
   "execution_count": 115,
   "metadata": {},
   "outputs": [],
   "source": [
    "def ARMA_S2222(ar,ar2,ma, ma2, y, y2, err, err2):\n",
    "    ret = ar[0] * y[-1] + ar[1] * y[-2]\n",
    "    ret = ret + ar2[0] * y2[-1] - ar2[0] * ar[0] * y2[-2] - ar2[0] * ar[1] * y2[-3]\n",
    "    ret = ret + ar2[1] * y2[-2] - ar2[1] * ar[0] * y2[-3] - ar2[1] * ar[1] * y2[-4]\n",
    "    ret = ret + ma[0] * err[-1] + ma[1] * err[-2]\n",
    "    ret = ret + ma2[0] * err2[-1] + ma2[0] * ma[0] * err2[-2] +  ma2[0] * ma[1] * err2[-3]\n",
    "    ret = ret + ma2[1] * err2[-2] + ma2[1] * ma[0] * err2[-3] +  ma2[1] * ma[1] * err2[-4]\n",
    "    return ret\n",
    "\n",
    "def test_ARMA_S2222(terms, y):\n",
    "    \n",
    "    ar = terms[:2]\n",
    "    ar2 = terms[2:4]\n",
    "    ma = terms[4:6]\n",
    "    ma2 = terms[6:]\n",
    "    \n",
    "    for term in terms:\n",
    "        if np.sqrt(term**2) >= 1:\n",
    "            return 1000000000\n",
    "    \n",
    "    lag = 4\n",
    "    err = [0] * (lag + 288)\n",
    "    ret = err\n",
    "    \n",
    "    for num in range(lag+288,len(y)):\n",
    "        ret = ret + [ARMA_S2222(ar,ar2,ma,ma2, y[num-lag:num], y[num-lag-288:num-288], err[num-lag:num], err[num-lag-288:num-288])]\n",
    "        err = err + [y[num]-ret[-1]]\n",
    "    \n",
    "    sse = sum([x**2 for x in err])\n",
    "    \n",
    "    return sse\n",
    "\n",
    "def calc_ARMA_S2222(terms, y):\n",
    "    \n",
    "    ar = terms[:2]\n",
    "    ar2 = terms[2:4]\n",
    "    ma = terms[4:6]\n",
    "    ma2 = terms[6:]\n",
    "    \n",
    "    lag = 4\n",
    "    err = [0] * (lag + 288)\n",
    "    ret = err\n",
    "    \n",
    "    for num in range(lag+288,len(y)):\n",
    "        ret = ret + [ARMA_S2222(ar,ar2,ma,ma2, y[num-lag:num], y[num-lag-288:num-288], err[num-lag:num], err[num-lag-288:num-288])]\n",
    "        err = err + [y[num]-ret[-1]]\n",
    "        \n",
    "    ret = ret[lag:] \n",
    "    err = err[lag:]\n",
    "    \n",
    "    return ret, err\n",
    "    "
   ]
  },
  {
   "cell_type": "code",
   "execution_count": 98,
   "metadata": {},
   "outputs": [
    {
     "data": {
      "text/plain": [
       "array([ 0.93495504, -0.03849394,  0.16485962,  0.32715485, -0.99587404,\n",
       "        0.12321201, -0.11733268, -0.28731267])"
      ]
     },
     "execution_count": 98,
     "metadata": {},
     "output_type": "execute_result"
    }
   ],
   "source": [
    "modelARMA2222 = scipy.optimize.minimize(test_ARMA_S2222,[0.2,0.2, 0.2, 0.2,0.2, 0.2, 0.2, 0.2],(fit_list))\n",
    "modelARMA2222_args = modelARMA2222.x\n",
    "modelARMA2222_args"
   ]
  },
  {
   "cell_type": "code",
   "execution_count": 99,
   "metadata": {},
   "outputs": [
    {
     "data": {
      "text/plain": [
       "24.444121607113825"
      ]
     },
     "execution_count": 99,
     "metadata": {},
     "output_type": "execute_result"
    }
   ],
   "source": [
    "modelARMA2222_var = modelARMA2222.fun/len(fit_list)\n",
    "modelARMA2222_var"
   ]
  },
  {
   "cell_type": "code",
   "execution_count": 193,
   "metadata": {},
   "outputs": [
    {
     "data": {
      "text/plain": [
       "dict_keys(['AR(1)', 'AR(2)', 'MA(1)', 'MA(2)', 'ARMA(1,1)', 'ARMA(2,2)', 'ARIMA(1,0,0)x(1,0,0)', 'ARIMA(2,0,0)x(2,0,0)', 'ARIMA(0,0,1)x(0,0,1)', 'ARIMA(0,0,2)x(0,0,2)', 'ARIMA(1,0,1)x(1,0,1)', 'ARIMA(2,0,2)x(2,0,2)'])"
      ]
     },
     "execution_count": 193,
     "metadata": {},
     "output_type": "execute_result"
    }
   ],
   "source": [
    "gen_list = {}\n",
    "gen_list[\"AR(1)\"] = calc_AR(modelAR1_args, (fit_list))[0]\n",
    "gen_list[\"AR(2)\"] = calc_AR(modelAR2_args, (fit_list))[0]\n",
    "gen_list[\"MA(1)\"] = calc_MA(modelMA1_args, (fit_list))[0]\n",
    "gen_list[\"MA(2)\"] = calc_MA(modelMA2_args, (fit_list))[0]\n",
    "gen_list[\"ARMA(1,1)\"] = calc_ARMA(model11_args, (fit_list))[0]\n",
    "gen_list[\"ARMA(2,2)\"] = calc_ARMA(model22_args, (fit_list))[0]\n",
    "gen_list[\"ARIMA(1,0,0)x(1,0,0)\"] = calc_AR_S11(modelAR11_args, (fit_list))[0]\n",
    "gen_list[\"ARIMA(2,0,0)x(2,0,0)\"] = calc_AR_S22(modelAR22_args, (fit_list))[0]\n",
    "gen_list[\"ARIMA(0,0,1)x(0,0,1)\"] = calc_MA_S11(modelMA11_args, (fit_list))[0]\n",
    "gen_list[\"ARIMA(0,0,2)x(0,0,2)\"] = calc_MA_S22(modelMA22_args, (fit_list))[0]\n",
    "gen_list[\"ARIMA(1,0,1)x(1,0,1)\"] = calc_ARMA_S1111(modelARMA1111_args, (fit_list))[0]\n",
    "gen_list[\"ARIMA(2,0,2)x(2,0,2)\"] = calc_ARMA_S2222(modelARMA2222_args, (fit_list))[0]\n",
    "\n",
    "gen_list.keys()"
   ]
  },
  {
   "cell_type": "code",
   "execution_count": 151,
   "metadata": {},
   "outputs": [
    {
     "name": "stdout",
     "output_type": "stream",
     "text": [
      "Moments for Actual Data\n",
      "Expected Value: -0.02782017103909464\n",
      "Variance: 25.838100438778355\n",
      "Skewness: -3.3168059466824147\n",
      "Kurtosis: 31.35494439402548\n",
      "AR(1)\n",
      "Expected Value: 0.0011938472166489386\n",
      "Variance: 0.046894495222987345\n",
      "Skewness: 3.3165385373255547\n",
      "Kurtosis: 31.35085700602469\n",
      "AR(2)\n",
      "Expected Value: 0.00043949091878422834\n",
      "Variance: 0.06520529519286847\n",
      "Skewness: 1.4853404451948715\n",
      "Kurtosis: 30.848089519191035\n",
      "MA(1)\n",
      "Expected Value: 0.0011685109253833036\n",
      "Variance: 0.04143014818640839\n",
      "Skewness: 3.3068968854674776\n",
      "Kurtosis: 30.798935612409807\n",
      "MA(2)\n",
      "Expected Value: 0.0023010262815162785\n",
      "Variance: 0.08232144655955162\n",
      "Skewness: 2.4965845269357705\n",
      "Kurtosis: 20.518479101383114\n",
      "ARMA(1,1)\n",
      "Expected Value: 0.0010524599837291064\n",
      "Variance: 0.05186369146683604\n",
      "Skewness: 3.138052137060153\n",
      "Kurtosis: 32.34602597333723\n",
      "ARMA(2,2)\n",
      "Expected Value: -0.0067250062897086585\n",
      "Variance: 0.42083279140185464\n",
      "Skewness: -0.8885425244685665\n",
      "Kurtosis: 5.930366133956259\n",
      "ARIMA(1,0,0)x(1,0,0)\n",
      "Expected Value: -0.00021622166360874627\n",
      "Variance: 0.1420248515624115\n",
      "Skewness: -1.1040996943617092\n",
      "Kurtosis: 18.799055934518766\n",
      "ARIMA(2,0,0)x(2,0,0)\n",
      "Expected Value: -0.0021628147502756197\n",
      "Variance: 0.2483066454949869\n",
      "Skewness: -1.3703460881561678\n",
      "Kurtosis: 14.27455549720661\n",
      "ARIMA(0,0,1)x(0,0,1)\n",
      "Expected Value: -0.00012151976245253897\n",
      "Variance: 0.1173639969260271\n",
      "Skewness: -1.0117838223687763\n",
      "Kurtosis: 18.761543730713953\n",
      "ARIMA(0,0,2)x(0,0,2)\n",
      "Expected Value: -0.0021952260035234318\n",
      "Variance: 0.07579100668013877\n",
      "Skewness: -1.962257038567426\n",
      "Kurtosis: 14.652250431015055\n",
      "ARIMA(1,0,1)x(1,0,1)\n",
      "Expected Value: -0.00034232950354699327\n",
      "Variance: 0.16860545119298279\n",
      "Skewness: -2.1583257032615695\n",
      "Kurtosis: 45.43135752299558\n",
      "ARIMA(2,0,2)x(2,0,2)\n",
      "Expected Value: -0.01087800613242862\n",
      "Variance: 0.5104154899709599\n",
      "Skewness: -2.940238499075086\n",
      "Kurtosis: 63.11205680567417\n"
     ]
    }
   ],
   "source": [
    "\n",
    "\n",
    "for key in gen_list:\n",
    "    data = gen_list[key]\n",
    "    mom1 = np.mean(data)\n",
    "    mom2 = ACF(array(data),0)\n",
    "    mom3 = skewness(array(data))\n",
    "    mom4 = kurtosis(array(data))\n",
    "    print(key)\n",
    "    print(\"Expected Value: \" + str(mom1))\n",
    "    print(\"Variance: \" + str(mom2))\n",
    "    print(\"Skewness: \" + str(mom3))\n",
    "    print(\"Kurtosis: \" + str(mom4))"
   ]
  },
  {
   "cell_type": "code",
   "execution_count": 203,
   "metadata": {},
   "outputs": [
    {
     "data": {
      "image/png": "[encoded data removed]",
      "text/plain": [
       "<Figure size 432x288 with 1 Axes>"
      ]
     },
     "metadata": {
      "needs_background": "light"
     },
     "output_type": "display_data"
    }
   ],
   "source": [
    "plt.plot(fit_list)\n",
    "for key in gen_list:\n",
    "    plt.plot(gen_list[key])\n",
    "    \n",
    "plt.legend(gen_list.keys())\n",
    "plt.xlabel(\"Sample\")\n",
    "plt.ylabel(\"Change in Viewers\")\n",
    "plt.title(\"Fortnite Data and Model\")\n",
    "plt.savefig(\"Fortnite_D&M.jpg\", dpi=200, bbox_inches='tight')\n"
   ]
  },
  {
   "cell_type": "code",
   "execution_count": 204,
   "metadata": {},
   "outputs": [
    {
     "data": {
      "image/png": "[encoded data removed]",
      "text/plain": [
       "<Figure size 432x288 with 1 Axes>"
      ]
     },
     "metadata": {
      "needs_background": "light"
     },
     "output_type": "display_data"
    }
   ],
   "source": [
    "#plt.plot(fit_list)\n",
    "for num, key in zip(range(len(gen_list)), gen_list):\n",
    "    if num == 6:\n",
    "        break\n",
    "    plt.plot(gen_list[key])\n",
    "    \n",
    "plt.legend(gen_list.keys())\n",
    "plt.xlabel(\"Sample\")\n",
    "plt.ylabel(\"Change in Viewers\")\n",
    "plt.title(\"Fortnite Data and Model Non-Seasonal\")\n",
    "plt.savefig(\"Fortnite_D&MNS.jpg\", dpi=200, bbox_inches='tight')\n"
   ]
  },
  {
   "cell_type": "code",
   "execution_count": 209,
   "metadata": {},
   "outputs": [
    {
     "data": {
      "image/png": "[encoded data removed]",
      "text/plain": [
       "<Figure size 432x288 with 1 Axes>"
      ]
     },
     "metadata": {
      "needs_background": "light"
     },
     "output_type": "display_data"
    }
   ],
   "source": [
    "#plt.plot(fit_list)\n",
    "leg = []\n",
    "for num, key in zip(range(len(gen_list)), gen_list):\n",
    "    if num >= 6:\n",
    "        plt.plot(gen_list[key])\n",
    "        leg = leg + [key]\n",
    "    \n",
    "plt.legend(leg)\n",
    "plt.xlabel(\"Sample\")\n",
    "plt.ylabel(\"Change in Viewers\")\n",
    "plt.title(\"Fortnite Data and Model Seasonal\")\n",
    "plt.savefig(\"Fortnite_D&MS.jpg\", dpi=200, bbox_inches='tight')\n"
   ]
  },
  {
   "cell_type": "code",
   "execution_count": 184,
   "metadata": {},
   "outputs": [
    {
     "name": "stdout",
     "output_type": "stream",
     "text": [
      "Moments for Test Data 1\n",
      "Expected Value: -0.02782017103909464\n",
      "Variance: 25.838100438778355\n",
      "Skewness: -3.3168059466824147\n",
      "Kurtosis: 31.35494439402548\n"
     ]
    }
   ],
   "source": [
    "test_data1 = pd.read_excel(\"Fortnite_ret_test1.xlsx\")\n",
    "test_list1 = list(test_data1[test_data1.columns[0]])\n",
    "\n",
    "print(\"Moments for Test Data 1\")\n",
    "amom1 = np.mean(fit_list)\n",
    "amom2 = ACF(array(fit_list),0)\n",
    "amom3 = skewness(array(fit_list))\n",
    "amom4 = kurtosis(array(fit_list))\n",
    "sig = np.sqrt(amom2)\n",
    "print(\"Expected Value: \" + str(amom1))\n",
    "print(\"Variance: \" + str(amom2))\n",
    "print(\"Skewness: \" + str(amom3))\n",
    "print(\"Kurtosis: \" + str(amom4))"
   ]
  },
  {
   "cell_type": "code",
   "execution_count": 187,
   "metadata": {
    "scrolled": true
   },
   "outputs": [
    {
     "data": {
      "text/plain": [
       "{'AR(1)': 33.36649302107807,\n",
       " 'AR(2)': 33.38021178542221,\n",
       " 'MA(1)': 33.369254858703854,\n",
       " 'MA(2)': 33.409579820240616,\n",
       " 'ARMA(1,1)': 33.36720211443993,\n",
       " 'ARMA(2,2)': 33.16561671869367,\n",
       " 'ARIMA(1,0,0)x(1,0,0)': 30.204969701234173,\n",
       " 'ARIMA(2,0,0)x(2,0,0)': 30.170224356065454,\n",
       " 'ARIMA(0,0,1)x(0,0,1)': 30.1743860870063,\n",
       " 'ARIMA(0,0,2)x(0,0,2)': 30.204551338747287,\n",
       " 'ARIMA(1,0,1)x(1,0,1)': 30.29073429410795,\n",
       " 'ARIMA(2,0,2)x(2,0,2)': 30.20557445321783}"
      ]
     },
     "execution_count": 187,
     "metadata": {},
     "output_type": "execute_result"
    }
   ],
   "source": [
    "gen_list = {}\n",
    "gen_list[\"AR(1)\"] = test_AR(modelAR1_args, (test_list1))/len(test_list1)\n",
    "gen_list[\"AR(2)\"] = test_AR(modelAR2_args, (test_list1))/len(test_list1)\n",
    "gen_list[\"MA(1)\"] = test_MA(modelMA1_args, (test_list1))/len(test_list1)\n",
    "gen_list[\"MA(2)\"] = test_MA(modelMA2_args, (test_list1))/len(test_list1)\n",
    "gen_list[\"ARMA(1,1)\"] = test_ARMA(model11_args, (test_list1))/len(test_list1)\n",
    "gen_list[\"ARMA(2,2)\"] = test_ARMA(model22_args, (test_list1))/len(test_list1)\n",
    "gen_list[\"ARIMA(1,0,0)x(1,0,0)\"] = test_AR_S11(modelAR11_args, (test_list1))/len(test_list1)\n",
    "gen_list[\"ARIMA(2,0,0)x(2,0,0)\"] = test_AR_S22(modelAR22_args, (test_list1))/len(test_list1)\n",
    "gen_list[\"ARIMA(0,0,1)x(0,0,1)\"] = test_MA_S11(modelMA11_args, (test_list1))/len(test_list1)\n",
    "gen_list[\"ARIMA(0,0,2)x(0,0,2)\"] = test_MA_S22(modelMA22_args, (test_list1))/len(test_list1)\n",
    "gen_list[\"ARIMA(1,0,1)x(1,0,1)\"] = test_ARMA_S1111(modelARMA1111_args, (test_list1))/len(test_list1)\n",
    "gen_list[\"ARIMA(2,0,2)x(2,0,2)\"] = test_ARMA_S2222(modelARMA2222_args, (test_list1))/len(test_list1)\n",
    "\n",
    "gen_list"
   ]
  },
  {
   "cell_type": "code",
   "execution_count": 188,
   "metadata": {},
   "outputs": [
    {
     "name": "stdout",
     "output_type": "stream",
     "text": [
      "Moments for Test Data 2\n",
      "Expected Value: -0.02782017103909464\n",
      "Variance: 25.838100438778355\n",
      "Skewness: -3.3168059466824147\n",
      "Kurtosis: 31.35494439402548\n"
     ]
    }
   ],
   "source": [
    "test_data2 = pd.read_excel(\"Fortnite_ret_test2.xlsx\")\n",
    "test_list2 = list(test_data2[test_data2.columns[0]])\n",
    "\n",
    "print(\"Moments for Test Data 2\")\n",
    "amom1 = np.mean(fit_list)\n",
    "amom2 = ACF(array(fit_list),0)\n",
    "amom3 = skewness(array(fit_list))\n",
    "amom4 = kurtosis(array(fit_list))\n",
    "sig = np.sqrt(amom2)\n",
    "print(\"Expected Value: \" + str(amom1))\n",
    "print(\"Variance: \" + str(amom2))\n",
    "print(\"Skewness: \" + str(amom3))\n",
    "print(\"Kurtosis: \" + str(amom4))"
   ]
  },
  {
   "cell_type": "code",
   "execution_count": 189,
   "metadata": {},
   "outputs": [
    {
     "data": {
      "text/plain": [
       "{'AR(1)': 38.935606723790414,\n",
       " 'AR(2)': 38.84631949917472,\n",
       " 'MA(1)': 38.961538560684836,\n",
       " 'MA(2)': 39.05637793209027,\n",
       " 'ARMA(1,1)': 38.900309242156304,\n",
       " 'ARMA(2,2)': 38.60497857839041,\n",
       " 'ARIMA(1,0,0)x(1,0,0)': 34.57182545461288,\n",
       " 'ARIMA(2,0,0)x(2,0,0)': 34.47420760501583,\n",
       " 'ARIMA(0,0,1)x(0,0,1)': 34.555178705460285,\n",
       " 'ARIMA(0,0,2)x(0,0,2)': 34.92506351914975,\n",
       " 'ARIMA(1,0,1)x(1,0,1)': 34.670123924150836,\n",
       " 'ARIMA(2,0,2)x(2,0,2)': 34.68031465090809}"
      ]
     },
     "execution_count": 189,
     "metadata": {},
     "output_type": "execute_result"
    }
   ],
   "source": [
    "gen_list = {}\n",
    "gen_list[\"AR(1)\"] = test_AR(modelAR1_args, (test_list2))/len(test_list2)\n",
    "gen_list[\"AR(2)\"] = test_AR(modelAR2_args, (test_list2))/len(test_list2)\n",
    "gen_list[\"MA(1)\"] = test_MA(modelMA1_args, (test_list2))/len(test_list2)\n",
    "gen_list[\"MA(2)\"] = test_MA(modelMA2_args, (test_list2))/len(test_list2)\n",
    "gen_list[\"ARMA(1,1)\"] = test_ARMA(model11_args, (test_list2))/len(test_list2)\n",
    "gen_list[\"ARMA(2,2)\"] = test_ARMA(model22_args, (test_list2))/len(test_list2)\n",
    "gen_list[\"ARIMA(1,0,0)x(1,0,0)\"] = test_AR_S11(modelAR11_args, (test_list2))/len(test_list2)\n",
    "gen_list[\"ARIMA(2,0,0)x(2,0,0)\"] = test_AR_S22(modelAR22_args, (test_list2))/len(test_list2)\n",
    "gen_list[\"ARIMA(0,0,1)x(0,0,1)\"] = test_MA_S11(modelMA11_args, (test_list2))/len(test_list2)\n",
    "gen_list[\"ARIMA(0,0,2)x(0,0,2)\"] = test_MA_S22(modelMA22_args, (test_list2))/len(test_list2)\n",
    "gen_list[\"ARIMA(1,0,1)x(1,0,1)\"] = test_ARMA_S1111(modelARMA1111_args, (test_list2))/len(test_list2)\n",
    "gen_list[\"ARIMA(2,0,2)x(2,0,2)\"] = test_ARMA_S2222(modelARMA2222_args, (test_list2))/len(test_list2)\n",
    "\n",
    "gen_list"
   ]
  }
 ],
 "metadata": {
  "kernelspec": {
   "display_name": "Python 3",
   "language": "python",
   "name": "python3"
  },
  "language_info": {
   "codemirror_mode": {
    "name": "ipython",
    "version": 3
   },
   "file_extension": ".py",
   "mimetype": "text/x-python",
   "name": "python",
   "nbconvert_exporter": "python",
   "pygments_lexer": "ipython3",
   "version": "3.6.7"
  }
 },
 "nbformat": 4,
 "nbformat_minor": 2
}
